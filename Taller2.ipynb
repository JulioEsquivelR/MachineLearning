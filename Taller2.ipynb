{
  "nbformat": 4,
  "nbformat_minor": 0,
  "metadata": {
    "colab": {
      "name": "Taller2.ipynb",
      "provenance": [],
      "collapsed_sections": [],
      "toc_visible": true,
      "include_colab_link": true
    },
    "kernelspec": {
      "display_name": "Python 3",
      "language": "python",
      "name": "python3"
    }
  },
  "cells": [
    {
      "cell_type": "markdown",
      "metadata": {
        "id": "view-in-github",
        "colab_type": "text"
      },
      "source": [
        "<a href=\"https://colab.research.google.com/github/JulioEsquivelR/MachineLearning/blob/main/Taller2.ipynb\" target=\"_parent\"><img src=\"https://colab.research.google.com/assets/colab-badge.svg\" alt=\"Open In Colab\"/></a>"
      ]
    },
    {
      "cell_type": "code",
      "metadata": {
        "id": "M6npwLt4pbGw"
      },
      "source": [
        "import pandas as pd\n",
        "import numpy as np\n",
        "from matplotlib import pyplot as plt\n",
        "from IPython.display import display, HTML\n",
        "import matplotlib\n",
        "matplotlib.rcParams.update({'font.size': 12})\n",
        "from sklearn.datasets import load_boston\n",
        "from sklearn.model_selection import train_test_split\n",
        "from sklearn.linear_model import LinearRegression\n",
        "from sklearn.linear_model import Ridge\n",
        "from sklearn.linear_model import Lasso"
      ],
      "execution_count": null,
      "outputs": []
    },
    {
      "cell_type": "markdown",
      "metadata": {
        "collapsed": true,
        "id": "JWK6I16_4wp7"
      },
      "source": [
        "#  Linear Regression\n",
        "\n",
        "\n",
        "## Exercise \n",
        "\n",
        "This dataset contains information collected by the U.S Census Service concerning housing in the area of Boston Mass. It was obtained from the StatLib archive (http://lib.stat.cmu.edu/datasets/boston), and has been used extensively throughout the literature to benchmark algorithms. However, these comparisons were primarily done outside of Delve and are thus somewhat suspect. The dataset is small in size with only 506 cases.\n",
        "\n",
        "Utilizar [LinearRegression](http://scikit-learn.org/stable/modules/generated/sklearn.linear_model.LinearRegression.html)\n",
        "\n",
        "\n",
        "\n"
      ]
    },
    {
      "cell_type": "markdown",
      "metadata": {
        "id": "bxrdul7J15v8"
      },
      "source": [
        "### Understanding Data\n",
        "\n",
        "- CRIM - per capita crime rate by town\n",
        "- ZN - proportion of residential land zoned for lots over 25,000 sq.ft.\n",
        "- INDUS - proportion of non-retail business acres per town.\n",
        "- CHAS - Charles River dummy variable (1 if tract bounds river; 0 otherwise)\n",
        "- NOX - nitric oxides concentration (parts per 10 million)\n",
        "- RM - average number of rooms per dwelling\n",
        "- AGE - proportion of owner-occupied units built prior to 1940\n",
        "- DIS - weighted distances to five Boston employment centres\n",
        "- RAD - index of accessibility to radial highways\n",
        "- TAX - full-value property-tax rate per us\\$10,000\n",
        "- PTRATIO - pupil-teacher ratio by town\n",
        "- B  $1000(Bk - 0.63)^2$ where Bk is the proportion of blacks by town\n",
        "- LSTAT - % lower status of the population\n",
        "- MEDV - Median value of owner-occupied homes in us\\$1000's\n",
        "\n",
        "Descriptive analytics\n",
        "\n",
        "- What questions would you ask to understand the data?\n",
        "- What visualization tools to use?"
      ]
    },
    {
      "cell_type": "code",
      "metadata": {
        "id": "b_97qoUWkLte",
        "colab": {
          "base_uri": "https://localhost:8080/",
          "height": 1000
        },
        "outputId": "587c29ba-6482-4e78-b07e-df85267ae578"
      },
      "source": [
        "\n",
        "boston=load_boston()\n",
        "boston_df=pd.DataFrame(boston.data,columns=boston.feature_names)\n",
        "\n",
        "print(boston.data.shape) #get (numer of rows, number of columns or 'features')\n",
        "print(boston.DESCR) #get a description of the dataset\n",
        "boston_df.describe()"
      ],
      "execution_count": null,
      "outputs": [
        {
          "output_type": "stream",
          "text": [
            "(506, 13)\n",
            ".. _boston_dataset:\n",
            "\n",
            "Boston house prices dataset\n",
            "---------------------------\n",
            "\n",
            "**Data Set Characteristics:**  \n",
            "\n",
            "    :Number of Instances: 506 \n",
            "\n",
            "    :Number of Attributes: 13 numeric/categorical predictive. Median Value (attribute 14) is usually the target.\n",
            "\n",
            "    :Attribute Information (in order):\n",
            "        - CRIM     per capita crime rate by town\n",
            "        - ZN       proportion of residential land zoned for lots over 25,000 sq.ft.\n",
            "        - INDUS    proportion of non-retail business acres per town\n",
            "        - CHAS     Charles River dummy variable (= 1 if tract bounds river; 0 otherwise)\n",
            "        - NOX      nitric oxides concentration (parts per 10 million)\n",
            "        - RM       average number of rooms per dwelling\n",
            "        - AGE      proportion of owner-occupied units built prior to 1940\n",
            "        - DIS      weighted distances to five Boston employment centres\n",
            "        - RAD      index of accessibility to radial highways\n",
            "        - TAX      full-value property-tax rate per $10,000\n",
            "        - PTRATIO  pupil-teacher ratio by town\n",
            "        - B        1000(Bk - 0.63)^2 where Bk is the proportion of blacks by town\n",
            "        - LSTAT    % lower status of the population\n",
            "        - MEDV     Median value of owner-occupied homes in $1000's\n",
            "\n",
            "    :Missing Attribute Values: None\n",
            "\n",
            "    :Creator: Harrison, D. and Rubinfeld, D.L.\n",
            "\n",
            "This is a copy of UCI ML housing dataset.\n",
            "https://archive.ics.uci.edu/ml/machine-learning-databases/housing/\n",
            "\n",
            "\n",
            "This dataset was taken from the StatLib library which is maintained at Carnegie Mellon University.\n",
            "\n",
            "The Boston house-price data of Harrison, D. and Rubinfeld, D.L. 'Hedonic\n",
            "prices and the demand for clean air', J. Environ. Economics & Management,\n",
            "vol.5, 81-102, 1978.   Used in Belsley, Kuh & Welsch, 'Regression diagnostics\n",
            "...', Wiley, 1980.   N.B. Various transformations are used in the table on\n",
            "pages 244-261 of the latter.\n",
            "\n",
            "The Boston house-price data has been used in many machine learning papers that address regression\n",
            "problems.   \n",
            "     \n",
            ".. topic:: References\n",
            "\n",
            "   - Belsley, Kuh & Welsch, 'Regression diagnostics: Identifying Influential Data and Sources of Collinearity', Wiley, 1980. 244-261.\n",
            "   - Quinlan,R. (1993). Combining Instance-Based and Model-Based Learning. In Proceedings on the Tenth International Conference of Machine Learning, 236-243, University of Massachusetts, Amherst. Morgan Kaufmann.\n",
            "\n"
          ],
          "name": "stdout"
        },
        {
          "output_type": "execute_result",
          "data": {
            "text/html": [
              "<div>\n",
              "<style scoped>\n",
              "    .dataframe tbody tr th:only-of-type {\n",
              "        vertical-align: middle;\n",
              "    }\n",
              "\n",
              "    .dataframe tbody tr th {\n",
              "        vertical-align: top;\n",
              "    }\n",
              "\n",
              "    .dataframe thead th {\n",
              "        text-align: right;\n",
              "    }\n",
              "</style>\n",
              "<table border=\"1\" class=\"dataframe\">\n",
              "  <thead>\n",
              "    <tr style=\"text-align: right;\">\n",
              "      <th></th>\n",
              "      <th>CRIM</th>\n",
              "      <th>ZN</th>\n",
              "      <th>INDUS</th>\n",
              "      <th>CHAS</th>\n",
              "      <th>NOX</th>\n",
              "      <th>RM</th>\n",
              "      <th>AGE</th>\n",
              "      <th>DIS</th>\n",
              "      <th>RAD</th>\n",
              "      <th>TAX</th>\n",
              "      <th>PTRATIO</th>\n",
              "      <th>B</th>\n",
              "      <th>LSTAT</th>\n",
              "    </tr>\n",
              "  </thead>\n",
              "  <tbody>\n",
              "    <tr>\n",
              "      <th>count</th>\n",
              "      <td>506.000000</td>\n",
              "      <td>506.000000</td>\n",
              "      <td>506.000000</td>\n",
              "      <td>506.000000</td>\n",
              "      <td>506.000000</td>\n",
              "      <td>506.000000</td>\n",
              "      <td>506.000000</td>\n",
              "      <td>506.000000</td>\n",
              "      <td>506.000000</td>\n",
              "      <td>506.000000</td>\n",
              "      <td>506.000000</td>\n",
              "      <td>506.000000</td>\n",
              "      <td>506.000000</td>\n",
              "    </tr>\n",
              "    <tr>\n",
              "      <th>mean</th>\n",
              "      <td>3.613524</td>\n",
              "      <td>11.363636</td>\n",
              "      <td>11.136779</td>\n",
              "      <td>0.069170</td>\n",
              "      <td>0.554695</td>\n",
              "      <td>6.284634</td>\n",
              "      <td>68.574901</td>\n",
              "      <td>3.795043</td>\n",
              "      <td>9.549407</td>\n",
              "      <td>408.237154</td>\n",
              "      <td>18.455534</td>\n",
              "      <td>356.674032</td>\n",
              "      <td>12.653063</td>\n",
              "    </tr>\n",
              "    <tr>\n",
              "      <th>std</th>\n",
              "      <td>8.601545</td>\n",
              "      <td>23.322453</td>\n",
              "      <td>6.860353</td>\n",
              "      <td>0.253994</td>\n",
              "      <td>0.115878</td>\n",
              "      <td>0.702617</td>\n",
              "      <td>28.148861</td>\n",
              "      <td>2.105710</td>\n",
              "      <td>8.707259</td>\n",
              "      <td>168.537116</td>\n",
              "      <td>2.164946</td>\n",
              "      <td>91.294864</td>\n",
              "      <td>7.141062</td>\n",
              "    </tr>\n",
              "    <tr>\n",
              "      <th>min</th>\n",
              "      <td>0.006320</td>\n",
              "      <td>0.000000</td>\n",
              "      <td>0.460000</td>\n",
              "      <td>0.000000</td>\n",
              "      <td>0.385000</td>\n",
              "      <td>3.561000</td>\n",
              "      <td>2.900000</td>\n",
              "      <td>1.129600</td>\n",
              "      <td>1.000000</td>\n",
              "      <td>187.000000</td>\n",
              "      <td>12.600000</td>\n",
              "      <td>0.320000</td>\n",
              "      <td>1.730000</td>\n",
              "    </tr>\n",
              "    <tr>\n",
              "      <th>25%</th>\n",
              "      <td>0.082045</td>\n",
              "      <td>0.000000</td>\n",
              "      <td>5.190000</td>\n",
              "      <td>0.000000</td>\n",
              "      <td>0.449000</td>\n",
              "      <td>5.885500</td>\n",
              "      <td>45.025000</td>\n",
              "      <td>2.100175</td>\n",
              "      <td>4.000000</td>\n",
              "      <td>279.000000</td>\n",
              "      <td>17.400000</td>\n",
              "      <td>375.377500</td>\n",
              "      <td>6.950000</td>\n",
              "    </tr>\n",
              "    <tr>\n",
              "      <th>50%</th>\n",
              "      <td>0.256510</td>\n",
              "      <td>0.000000</td>\n",
              "      <td>9.690000</td>\n",
              "      <td>0.000000</td>\n",
              "      <td>0.538000</td>\n",
              "      <td>6.208500</td>\n",
              "      <td>77.500000</td>\n",
              "      <td>3.207450</td>\n",
              "      <td>5.000000</td>\n",
              "      <td>330.000000</td>\n",
              "      <td>19.050000</td>\n",
              "      <td>391.440000</td>\n",
              "      <td>11.360000</td>\n",
              "    </tr>\n",
              "    <tr>\n",
              "      <th>75%</th>\n",
              "      <td>3.677083</td>\n",
              "      <td>12.500000</td>\n",
              "      <td>18.100000</td>\n",
              "      <td>0.000000</td>\n",
              "      <td>0.624000</td>\n",
              "      <td>6.623500</td>\n",
              "      <td>94.075000</td>\n",
              "      <td>5.188425</td>\n",
              "      <td>24.000000</td>\n",
              "      <td>666.000000</td>\n",
              "      <td>20.200000</td>\n",
              "      <td>396.225000</td>\n",
              "      <td>16.955000</td>\n",
              "    </tr>\n",
              "    <tr>\n",
              "      <th>max</th>\n",
              "      <td>88.976200</td>\n",
              "      <td>100.000000</td>\n",
              "      <td>27.740000</td>\n",
              "      <td>1.000000</td>\n",
              "      <td>0.871000</td>\n",
              "      <td>8.780000</td>\n",
              "      <td>100.000000</td>\n",
              "      <td>12.126500</td>\n",
              "      <td>24.000000</td>\n",
              "      <td>711.000000</td>\n",
              "      <td>22.000000</td>\n",
              "      <td>396.900000</td>\n",
              "      <td>37.970000</td>\n",
              "    </tr>\n",
              "  </tbody>\n",
              "</table>\n",
              "</div>"
            ],
            "text/plain": [
              "             CRIM          ZN       INDUS  ...     PTRATIO           B       LSTAT\n",
              "count  506.000000  506.000000  506.000000  ...  506.000000  506.000000  506.000000\n",
              "mean     3.613524   11.363636   11.136779  ...   18.455534  356.674032   12.653063\n",
              "std      8.601545   23.322453    6.860353  ...    2.164946   91.294864    7.141062\n",
              "min      0.006320    0.000000    0.460000  ...   12.600000    0.320000    1.730000\n",
              "25%      0.082045    0.000000    5.190000  ...   17.400000  375.377500    6.950000\n",
              "50%      0.256510    0.000000    9.690000  ...   19.050000  391.440000   11.360000\n",
              "75%      3.677083   12.500000   18.100000  ...   20.200000  396.225000   16.955000\n",
              "max     88.976200  100.000000   27.740000  ...   22.000000  396.900000   37.970000\n",
              "\n",
              "[8 rows x 13 columns]"
            ]
          },
          "metadata": {
            "tags": []
          },
          "execution_count": 2
        }
      ]
    },
    {
      "cell_type": "code",
      "metadata": {
        "id": "OcAjwW9vzCvp",
        "colab": {
          "base_uri": "https://localhost:8080/",
          "height": 588
        },
        "outputId": "67d9c717-83cd-4f7f-a2ff-b589910aeb7f"
      },
      "source": [
        "boston_df.plot.box(figsize=(20,10))"
      ],
      "execution_count": null,
      "outputs": [
        {
          "output_type": "execute_result",
          "data": {
            "text/plain": [
              "<matplotlib.axes._subplots.AxesSubplot at 0x7f0425e49c50>"
            ]
          },
          "metadata": {
            "tags": []
          },
          "execution_count": 3
        },
        {
          "output_type": "display_data",
          "data": {
            "image/png": "[encoded data removed]",
            "text/plain": [
              "<Figure size 1440x720 with 1 Axes>"
            ]
          },
          "metadata": {
            "tags": [],
            "needs_background": "light"
          }
        }
      ]
    },
    {
      "cell_type": "markdown",
      "metadata": {
        "id": "d8SVLsT_g4vY"
      },
      "source": [
        "### Preparing the data\n",
        "\n"
      ]
    },
    {
      "cell_type": "code",
      "metadata": {
        "id": "v2bUqh9Vg4Dh",
        "colab": {
          "base_uri": "https://localhost:8080/",
          "height": 136
        },
        "outputId": "c6e8e8aa-debf-48e4-9a36-eca0d6b67e1c"
      },
      "source": [
        "# add another column that contains the house prices which in scikit learn datasets are considered as target\n",
        "boston_df['Price']=boston.target\n",
        "boston_df.head(3)"
      ],
      "execution_count": null,
      "outputs": [
        {
          "output_type": "execute_result",
          "data": {
            "text/html": [
              "<div>\n",
              "<style scoped>\n",
              "    .dataframe tbody tr th:only-of-type {\n",
              "        vertical-align: middle;\n",
              "    }\n",
              "\n",
              "    .dataframe tbody tr th {\n",
              "        vertical-align: top;\n",
              "    }\n",
              "\n",
              "    .dataframe thead th {\n",
              "        text-align: right;\n",
              "    }\n",
              "</style>\n",
              "<table border=\"1\" class=\"dataframe\">\n",
              "  <thead>\n",
              "    <tr style=\"text-align: right;\">\n",
              "      <th></th>\n",
              "      <th>CRIM</th>\n",
              "      <th>ZN</th>\n",
              "      <th>INDUS</th>\n",
              "      <th>CHAS</th>\n",
              "      <th>NOX</th>\n",
              "      <th>RM</th>\n",
              "      <th>AGE</th>\n",
              "      <th>DIS</th>\n",
              "      <th>RAD</th>\n",
              "      <th>TAX</th>\n",
              "      <th>PTRATIO</th>\n",
              "      <th>B</th>\n",
              "      <th>LSTAT</th>\n",
              "      <th>Price</th>\n",
              "    </tr>\n",
              "  </thead>\n",
              "  <tbody>\n",
              "    <tr>\n",
              "      <th>0</th>\n",
              "      <td>0.00632</td>\n",
              "      <td>18.0</td>\n",
              "      <td>2.31</td>\n",
              "      <td>0.0</td>\n",
              "      <td>0.538</td>\n",
              "      <td>6.575</td>\n",
              "      <td>65.2</td>\n",
              "      <td>4.0900</td>\n",
              "      <td>1.0</td>\n",
              "      <td>296.0</td>\n",
              "      <td>15.3</td>\n",
              "      <td>396.90</td>\n",
              "      <td>4.98</td>\n",
              "      <td>24.0</td>\n",
              "    </tr>\n",
              "    <tr>\n",
              "      <th>1</th>\n",
              "      <td>0.02731</td>\n",
              "      <td>0.0</td>\n",
              "      <td>7.07</td>\n",
              "      <td>0.0</td>\n",
              "      <td>0.469</td>\n",
              "      <td>6.421</td>\n",
              "      <td>78.9</td>\n",
              "      <td>4.9671</td>\n",
              "      <td>2.0</td>\n",
              "      <td>242.0</td>\n",
              "      <td>17.8</td>\n",
              "      <td>396.90</td>\n",
              "      <td>9.14</td>\n",
              "      <td>21.6</td>\n",
              "    </tr>\n",
              "    <tr>\n",
              "      <th>2</th>\n",
              "      <td>0.02729</td>\n",
              "      <td>0.0</td>\n",
              "      <td>7.07</td>\n",
              "      <td>0.0</td>\n",
              "      <td>0.469</td>\n",
              "      <td>7.185</td>\n",
              "      <td>61.1</td>\n",
              "      <td>4.9671</td>\n",
              "      <td>2.0</td>\n",
              "      <td>242.0</td>\n",
              "      <td>17.8</td>\n",
              "      <td>392.83</td>\n",
              "      <td>4.03</td>\n",
              "      <td>34.7</td>\n",
              "    </tr>\n",
              "  </tbody>\n",
              "</table>\n",
              "</div>"
            ],
            "text/plain": [
              "      CRIM    ZN  INDUS  CHAS    NOX  ...    TAX  PTRATIO       B  LSTAT  Price\n",
              "0  0.00632  18.0   2.31   0.0  0.538  ...  296.0     15.3  396.90   4.98   24.0\n",
              "1  0.02731   0.0   7.07   0.0  0.469  ...  242.0     17.8  396.90   9.14   21.6\n",
              "2  0.02729   0.0   7.07   0.0  0.469  ...  242.0     17.8  392.83   4.03   34.7\n",
              "\n",
              "[3 rows x 14 columns]"
            ]
          },
          "metadata": {
            "tags": []
          },
          "execution_count": 4
        }
      ]
    },
    {
      "cell_type": "markdown",
      "metadata": {
        "id": "8fYJ96VUyKpj"
      },
      "source": [
        "#### Split training and text data\n",
        "\n",
        "Learning the parameters of a prediction function and testing it on the same data is a methodological mistake: a model that would just repeat the labels of the samples that it has just seen would have a perfect score but would fail to predict anything useful on yet-unseen data. This situation is called overfitting. To avoid it, it is common practice when performing a (supervised) machine learning experiment to hold out part of the available data as a test set X_test, y_test. Note that the word “experiment” is not intended to denote academic use only, because even in commercial settings machine learning usually starts out experimentally."
      ]
    },
    {
      "cell_type": "code",
      "metadata": {
        "id": "W2gK7DuPwJ58"
      },
      "source": [
        "\n",
        "# split training and text data\n",
        "X=boston_df.drop('Price',axis=1)\n",
        "y=boston_df['Price']\n",
        "\n",
        "X_train, X_test, y_train, y_test = train_test_split(X, y, test_size=0.25, random_state=1212)"
      ],
      "execution_count": null,
      "outputs": []
    },
    {
      "cell_type": "markdown",
      "metadata": {
        "id": "gfB6jO5ByV80"
      },
      "source": [
        "### Modeling\n",
        "\n",
        "#### Train the model\n",
        "\n",
        "Train the models consist in  make  the optimization to obtain the long memory paramters of the model."
      ]
    },
    {
      "cell_type": "code",
      "metadata": {
        "id": "JXRybOtixmsV",
        "colab": {
          "base_uri": "https://localhost:8080/"
        },
        "outputId": "fbd42cbd-6fc8-4c36-eaa3-813706570a77"
      },
      "source": [
        "# Create linear regressor object (in an array to train all)\n",
        "\n",
        "#TODO: add Lasso Models:$\\alpha = 100$',r'Lasso, $\\alpha = 0.001$',r'Lasso, $\\alpha = 0.7$'\n",
        "names=['Linear Regression',r'Ridge; $\\alpha = 0.01$',r'Ridge; $\\alpha = 100$',r'Lasso, $\\alpha = 0.001$',r'Lasso, $\\alpha = 0.7$']\n",
        "models = [LinearRegression(),Ridge(alpha=0.01),Ridge(alpha=100), Lasso(alpha=0.001), Lasso(alpha=0.7)]\n",
        "\n",
        "\n",
        "for regr,name in zip(models,names):\n",
        "  regr.fit(X_train, y_train)\n",
        "  # The coefficients\n",
        "  print('model ',name)\n",
        "  print('Coefficients: ', regr.coef_)\n",
        "  print('Intercept: ', regr.intercept_)\n",
        "\n"
      ],
      "execution_count": null,
      "outputs": [
        {
          "output_type": "stream",
          "text": [
            "model  Linear Regression\n",
            "Coefficients:  [-9.71690750e-02  4.40216888e-02  5.99318110e-02  2.81326767e+00\n",
            " -1.73330120e+01  3.51862631e+00  2.71366690e-03 -1.42521321e+00\n",
            "  3.20482276e-01 -1.44230960e-02 -9.73203538e-01  6.69087758e-03\n",
            " -5.80727844e-01]\n",
            "Intercept:  39.97772554872658\n",
            "model  Ridge; $\\alpha = 0.01$\n",
            "Coefficients:  [-9.70964229e-02  4.40379114e-02  5.92963044e-02  2.81097291e+00\n",
            " -1.71879712e+01  3.52060509e+00  2.57075374e-03 -1.42309630e+00\n",
            "  3.20223898e-01 -1.44370238e-02 -9.71479573e-01  6.69450657e-03\n",
            " -5.80908916e-01]\n",
            "Intercept:  39.87013288728727\n",
            "model  Ridge; $\\alpha = 100$\n",
            "Coefficients:  [-0.08687147  0.05223901 -0.00694598  0.55763387 -0.20509164  2.02124599\n",
            "  0.00556098 -1.0617979   0.34326505 -0.01855334 -0.82678013  0.00636268\n",
            " -0.73149656]\n",
            "Intercept:  39.805626811206196\n",
            "model  Lasso, $\\alpha = 0.001$\n",
            "Coefficients:  [-9.69885059e-02  4.40574115e-02  5.85378810e-02  2.79544109e+00\n",
            " -1.70050782e+01  3.52108037e+00  2.43471934e-03 -1.42002823e+00\n",
            "  3.19921969e-01 -1.44563189e-02 -9.69402500e-01  6.70013046e-03\n",
            " -5.81320590e-01]\n",
            "Intercept:  39.747210740705015\n",
            "model  Lasso, $\\alpha = 0.7$\n",
            "Coefficients:  [-0.06358425  0.04626833  0.          0.         -0.          1.76703816\n",
            "  0.0136127  -0.79350229  0.2743243  -0.01582701 -0.73572331  0.00622391\n",
            " -0.74797302]\n",
            "Intercept:  37.796027341004454\n"
          ],
          "name": "stdout"
        }
      ]
    },
    {
      "cell_type": "markdown",
      "metadata": {
        "id": "o-zXy7ydFvSI"
      },
      "source": [
        "Understanding the difference"
      ]
    },
    {
      "cell_type": "code",
      "metadata": {
        "id": "tsfMWH17FyM1",
        "colab": {
          "base_uri": "https://localhost:8080/",
          "height": 579
        },
        "outputId": "69989377-8676-4a0c-8303-4b7030b4de17"
      },
      "source": [
        "\n",
        "markers=['d','o','*','+','<','>']\n",
        "plt.figure(figsize=(20,10))\n",
        "for i in range(0,len(names)):\n",
        "  plt.plot(X.columns,models[i].coef_,alpha=0.7,linestyle='none',marker=markers[i],markersize=5,label=names[i])\n",
        "plt.xlabel('feature',fontsize=16)\n",
        "plt.ylabel('Coefficient Magnitude',fontsize=16)\n",
        "plt.legend(fontsize=13,loc=1)\n",
        "plt.show()\n"
      ],
      "execution_count": null,
      "outputs": [
        {
          "output_type": "display_data",
          "data": {
            "image/png": "[encoded data removed]",
            "text/plain": [
              "<Figure size 1440x720 with 1 Axes>"
            ]
          },
          "metadata": {
            "tags": [],
            "needs_background": "light"
          }
        }
      ]
    },
    {
      "cell_type": "markdown",
      "metadata": {
        "id": "AdUFbMvdsHBL"
      },
      "source": [
        "## Which is the best model?\n",
        "\n",
        "When evaluating different settings (“hyperparameters”) for estimators or differents models, there are the risk of overfitting on the test set because the selection of the model can be tweaked until the estimator performs optimally. This way, knowledge about the test set can “leak” into the model and evaluation metrics no longer report on generalization performance. To solve this problem, yet another part of the dataset can be held out as a so-called “validation set”: training proceeds on the training set, after which evaluation is done on the validation set, and when the experiment seems to be successful, final evaluation can be done on the test set.\n",
        "\n",
        "However, by partitioning the available data into three sets, we drastically reduce the number of samples which can be used for learning the model, and the results can depend on a particular random choice for the pair of (train, validation) sets.\n",
        "\n",
        "A solution to this problem is a procedure called cross-validation (CV for short). A test set should still be held out for final evaluation, but the validation set is no longer needed when doing CV. In the basic approach, called k-fold CV, the training set is split into k smaller sets (other approaches are described below, but generally follow the same principles). "
      ]
    },
    {
      "cell_type": "markdown",
      "metadata": {
        "id": "0dKX5-VwCo9k"
      },
      "source": [
        "Hyper-parameters are parameters that are not directly learnt within estimators. In scikit-learn they are passed as arguments to the constructor of the estimator classes. Typical examples include gamma for Ridge, alpha for Lasso, etc.  It is possible and recommended to search the hyper-parameter space for the best cross validation score.\n",
        "\n",
        "Any parameter provided when constructing an estimator may be optimized in this manner. Specifically, to find the names and current values for all parameters for a given estimator, use:\n",
        "\n",
        "estimator.get_params()\n",
        "\n",
        "Two generic approaches to sampling search candidates are provided in scikit-learn: for given values, [GridSearchCV](https://scikit-learn.org/stable/modules/generated/sklearn.model_selection.GridSearchCV.html#sklearn.model_selection.GridSearchCV) exhaustively considers all parameter combinations, while [RandomizedSearchCV](https://scikit-learn.org/stable/modules/generated/sklearn.model_selection.RandomizedSearchCV.html#sklearn.model_selection.RandomizedSearchCV) can sample a given number of candidates from a parameter space with a specified distribution.\n",
        "\n",
        "[More information](https://scikit-learn.org/stable/modules/grid_search.html)"
      ]
    },
    {
      "cell_type": "code",
      "metadata": {
        "id": "eMi2iioer25q",
        "colab": {
          "base_uri": "https://localhost:8080/"
        },
        "outputId": "65d1e829-c46e-494c-eb8f-54579e3a58eb"
      },
      "source": [
        "\n",
        "from sklearn.model_selection import cross_val_score\n",
        "\n",
        "#from https://scikit-learn.org/stable/modules/model_evaluation.html#scoring-parameter\n",
        "scoring =['explained_variance',\n",
        "          'neg_mean_absolute_error',\n",
        "          'neg_mean_squared_error',\n",
        "          'neg_mean_squared_log_error',\n",
        "          'neg_median_absolute_error',\n",
        "          'r2']\n",
        "\n",
        "#TODO: try differents score, whyis the best?\n",
        "#score?\n",
        "score = 'r2'\n",
        "for reg,name in zip(models,names):\n",
        "    scores = cross_val_score(reg, X_train, y_train.ravel(), scoring=score,\n",
        "                            cv=5)\n",
        "    print('--------------------------------------')\n",
        "    print('model {0:20} | score {1:20}'.format(name,score))\n",
        "    print('mean {0:22.2f}| std   {1:<22.2f}'.format(scores.mean(),scores.std()))\n",
        "    print(\"Accuracy(95.7%): {0:23.2f} (+/- {1:.2f})\" .format(scores.mean(), scores.std() * 2))\n"
      ],
      "execution_count": null,
      "outputs": [
        {
          "output_type": "stream",
          "text": [
            "--------------------------------------\n",
            "model Linear Regression    | score r2                  \n",
            "mean                   0.71| std   0.04                  \n",
            "Accuracy(95.7%):                    0.71 (+/- 0.08)\n",
            "--------------------------------------\n",
            "model Ridge; $\\alpha = 0.01$ | score r2                  \n",
            "mean                   0.71| std   0.04                  \n",
            "Accuracy(95.7%):                    0.71 (+/- 0.08)\n",
            "--------------------------------------\n",
            "model Ridge; $\\alpha = 100$ | score r2                  \n",
            "mean                   0.69| std   0.04                  \n",
            "Accuracy(95.7%):                    0.69 (+/- 0.08)\n",
            "--------------------------------------\n",
            "model Lasso, $\\alpha = 0.001$ | score r2                  \n",
            "mean                   0.71| std   0.04                  \n",
            "Accuracy(95.7%):                    0.71 (+/- 0.08)\n",
            "--------------------------------------\n",
            "model Lasso, $\\alpha = 0.7$ | score r2                  \n",
            "mean                   0.68| std   0.04                  \n",
            "Accuracy(95.7%):                    0.68 (+/- 0.08)\n"
          ],
          "name": "stdout"
        }
      ]
    },
    {
      "cell_type": "markdown",
      "metadata": {
        "id": "gFiDNMWphj5Z"
      },
      "source": [
        "explained_variance mean 0.71| std   0.04\r\n",
        "\r\n",
        "neg_mean_absolute_error mean -3.43| std   0.41\r\n",
        "\r\n",
        "neg_mean_squared_error mean -23.83| std   7.12 \r\n",
        "\r\n",
        "neg_median_absolute_error mean -2.59| std   0.47    \r\n",
        "\r\n",
        "r2             mean  0.71| std   0.04                  \r\n",
        "\r\n"
      ]
    },
    {
      "cell_type": "markdown",
      "metadata": {
        "id": "y8qPwbu5HJhL"
      },
      "source": [
        "## Exercise (try other models)\n",
        "\n",
        "Try to use [Elastic-NET](https://scikit-learn.org/stable/modules/generated/sklearn.linear_model.ElasticNet.html), [RANSAC](https://scikit-learn.org/stable/modules/generated/sklearn.linear_model.RANSACRegressor.html) and [MLPRegressor](https://scikit-learn.org/stable/modules/generated/sklearn.neural_network.MLPRegressor.html)\n"
      ]
    },
    {
      "cell_type": "code",
      "metadata": {
        "id": "bHb5ZFVGhLOI",
        "colab": {
          "base_uri": "https://localhost:8080/"
        },
        "outputId": "859ee72b-b1ad-4856-dff6-091501e106e4"
      },
      "source": [
        "from sklearn.linear_model import ElasticNet\r\n",
        "from sklearn.linear_model import RANSACRegressor\r\n",
        "from sklearn.neural_network import MLPRegressor\r\n",
        "\r\n",
        "from sklearn.datasets import make_regression\r\n",
        "\r\n",
        "names_others=['ElasticNet; $\\alpha=0.001',r'MLPRegressor; $\\alpha = 0.001$',r'RANSAC']\r\n",
        "other_models = [ElasticNet(alpha=0.001),MLPRegressor(alpha=0.001,max_iter=10000000,activation='relu'),RANSACRegressor(random_state=0)]\r\n",
        "\r\n",
        "regrElastic = ElasticNet(alpha=0.001)\r\n",
        "regr.fit(X_train, y_train)\r\n",
        "  # The coefficients\r\n",
        "print('model ','ElasticNet')\r\n",
        "print('Coefficients: ', regr.coef_)\r\n",
        "print('Intercept: ', regr.intercept_)\r\n",
        "\r\n",
        "regr_mlp = MLPRegressor(alpha=0.001,max_iter=100000000,activation='relu')\r\n",
        "regr_mlp.fit(X_train, y_train)\r\n",
        "  # The coefficients\r\n",
        "print('model ','MLPRegressor')\r\n",
        "print('Coefficients: ', regr_mlp.coefs_)\r\n",
        "print('Intercept: ', regr_mlp.intercepts_)\r\n",
        "\r\n",
        "regr_ran = RANSACRegressor(random_state=0)\r\n",
        "regr_ran.fit(X_train, y_train)\r\n",
        "  # The coefficients\r\n",
        "#print('model ','RANSACRegressor')\r\n",
        "#print('Coefficients: ', regr_ran.coefs_)\r\n",
        "#print('Intercept: ', regr_ran.intercepts_)\r\n",
        "#"
      ],
      "execution_count": null,
      "outputs": [
        {
          "output_type": "stream",
          "text": [
            "model  ElasticNet\n",
            "Coefficients:  [-0.06358425  0.04626833  0.          0.         -0.          1.76703816\n",
            "  0.0136127  -0.79350229  0.2743243  -0.01582701 -0.73572331  0.00622391\n",
            " -0.74797302]\n",
            "Intercept:  37.796027341004454\n",
            "model  MLPRegressor\n",
            "Coefficients:  [array([[-3.12507507e-02,  1.69969448e-01,  1.84709313e-01, ...,\n",
            "         1.63100542e-03,  5.80365010e-01,  5.22789310e-02],\n",
            "       [-5.45732720e-02,  2.10842928e-01, -1.15487399e-01, ...,\n",
            "         1.09442472e-08,  7.41536972e-02, -1.44395408e-01],\n",
            "       [-2.05680340e-01, -1.65653325e-01, -2.22001268e-01, ...,\n",
            "        -3.09697755e-02, -5.04101777e-01, -4.06177141e-02],\n",
            "       ...,\n",
            "       [-8.83195467e-02,  2.07051339e-01, -1.65863859e-01, ...,\n",
            "        -5.13057717e-03, -3.25911538e-01,  5.07365617e-03],\n",
            "       [-6.16251568e-02,  1.24506816e-01,  8.41477191e-02, ...,\n",
            "        -1.58991440e-01,  1.57655622e-01,  2.22355912e-01],\n",
            "       [ 4.98689148e-02,  2.08333004e-01, -1.14995035e-01, ...,\n",
            "         3.15068160e-02, -3.61877651e-01, -1.14328670e-01]]), array([[-1.71369862e-01],\n",
            "       [-3.83498776e-03],\n",
            "       [ 8.93415131e-02],\n",
            "       [ 1.76652478e-01],\n",
            "       [ 3.89876499e-09],\n",
            "       [-5.69185065e-02],\n",
            "       [ 1.68326805e-01],\n",
            "       [ 2.33962820e-05],\n",
            "       [ 2.90482233e-02],\n",
            "       [ 1.28014239e-02],\n",
            "       [-1.69440326e-01],\n",
            "       [-7.79902712e-03],\n",
            "       [ 3.01287412e-01],\n",
            "       [ 2.65641791e-01],\n",
            "       [-1.34450557e-02],\n",
            "       [ 9.16518228e-02],\n",
            "       [-2.26637474e-02],\n",
            "       [ 3.53960610e-02],\n",
            "       [-3.52575572e-05],\n",
            "       [-1.07942914e-03],\n",
            "       [ 1.06829747e-02],\n",
            "       [-3.25379732e-02],\n",
            "       [ 6.41609264e-02],\n",
            "       [ 1.02078263e-01],\n",
            "       [ 1.51560787e-02],\n",
            "       [-2.11116052e-01],\n",
            "       [-1.12548274e-01],\n",
            "       [ 1.20800148e-01],\n",
            "       [-2.35050516e-01],\n",
            "       [ 9.20513354e-02],\n",
            "       [ 3.66878223e-01],\n",
            "       [-4.24501394e-02],\n",
            "       [ 1.40503575e-01],\n",
            "       [-8.48804664e-02],\n",
            "       [ 7.69788164e-02],\n",
            "       [ 1.74761133e-01],\n",
            "       [-6.02903998e-02],\n",
            "       [-3.30105390e-19],\n",
            "       [ 1.12678657e-04],\n",
            "       [-4.96065797e-02],\n",
            "       [-8.57999425e-04],\n",
            "       [ 2.90762655e-02],\n",
            "       [ 1.64251116e-06],\n",
            "       [-2.18370901e-01],\n",
            "       [-1.23814490e-01],\n",
            "       [-4.11000113e-02],\n",
            "       [ 1.25020113e-01],\n",
            "       [-2.03565132e-02],\n",
            "       [-3.78956256e-01],\n",
            "       [ 8.35718059e-02],\n",
            "       [ 2.25255172e-01],\n",
            "       [-1.17561535e-01],\n",
            "       [ 2.19903382e-01],\n",
            "       [-2.03050490e-01],\n",
            "       [ 1.09733466e-01],\n",
            "       [ 3.84283629e-05],\n",
            "       [-4.43394237e-02],\n",
            "       [ 2.08733480e-01],\n",
            "       [ 1.54645979e-02],\n",
            "       [-2.90856368e-02],\n",
            "       [-2.06231831e-01],\n",
            "       [ 2.01006606e-02],\n",
            "       [-7.90214031e-02],\n",
            "       [-5.70212418e-02],\n",
            "       [ 7.99843699e-02],\n",
            "       [-1.16100553e-02],\n",
            "       [-2.23660132e-01],\n",
            "       [-8.38394068e-02],\n",
            "       [-1.70340180e-01],\n",
            "       [ 7.90366936e-07],\n",
            "       [-9.75698511e-02],\n",
            "       [-1.48445293e-01],\n",
            "       [ 1.73938676e-01],\n",
            "       [-1.98657587e-01],\n",
            "       [ 1.21712973e-01],\n",
            "       [-1.49475804e-01],\n",
            "       [ 1.12612451e-01],\n",
            "       [ 7.00101847e-01],\n",
            "       [ 4.90670839e-03],\n",
            "       [-1.55769073e-01],\n",
            "       [-4.30647987e-02],\n",
            "       [-2.33295349e-01],\n",
            "       [-1.77973443e-01],\n",
            "       [ 1.95719876e-01],\n",
            "       [ 1.92374534e-01],\n",
            "       [-5.34157549e-02],\n",
            "       [-7.97256781e-19],\n",
            "       [ 5.38485031e-03],\n",
            "       [-5.41466330e-03],\n",
            "       [-7.61932794e-18],\n",
            "       [ 1.19434943e-01],\n",
            "       [ 1.22949795e-01],\n",
            "       [-1.46168605e-05],\n",
            "       [ 1.40343322e-01],\n",
            "       [-3.90033487e-03],\n",
            "       [ 6.78921019e-02],\n",
            "       [-1.15307886e-01],\n",
            "       [ 7.98950486e-02],\n",
            "       [ 3.18255746e-01],\n",
            "       [ 1.88349277e-02]])]\n",
            "Intercept:  [array([ 0.21124259,  0.16386686, -0.0825002 ,  0.07821749, -0.11957444,\n",
            "        0.13356915, -0.11178844, -0.13025246,  0.03045816,  0.16932208,\n",
            "       -0.03793991,  0.18788834, -0.06339062,  0.11813795,  0.19156772,\n",
            "        0.02929274,  0.14040088, -0.02997104, -0.01290695, -0.16917676,\n",
            "        0.21272582, -0.16615304,  0.00065324, -0.0775663 , -0.13814438,\n",
            "       -0.14556239,  0.15106004, -0.07237246,  0.11402977, -0.14478615,\n",
            "        0.18078765,  0.08611978,  0.15663294, -0.03038789,  0.09150306,\n",
            "       -0.16259098,  0.154231  , -0.0328891 ,  0.03048973,  0.13535575,\n",
            "        0.1742371 , -0.2380306 , -0.16400816, -0.16536682,  0.17972752,\n",
            "       -0.00548195, -0.19229395,  0.02451288, -0.0853959 ,  0.22444744,\n",
            "        0.02972765, -0.04640049, -0.20404303, -0.01038384, -0.00245372,\n",
            "       -0.22929815, -0.1606793 ,  0.23756007,  0.03854367, -0.14755568,\n",
            "        0.11841165, -0.10929371,  0.13479623,  0.09793429,  0.16328812,\n",
            "        0.20169733, -0.19768018,  0.03344178, -0.11761913, -0.04465647,\n",
            "        0.13053312,  0.08897753, -0.13110666, -0.09783445,  0.2345076 ,\n",
            "       -0.05177821, -0.07980216,  0.00585446, -0.00432107, -0.20786604,\n",
            "        0.140613  ,  0.10248489,  0.08394687,  0.00055816, -0.1832942 ,\n",
            "       -0.0017431 , -0.08854702, -0.23686999, -0.19494069, -0.12506783,\n",
            "        0.10664717,  0.09828784, -0.01633416,  0.03433016, -0.21910681,\n",
            "        0.11218787,  0.1988305 ,  0.12397554,  0.1070975 , -0.18763748]), array([-0.08069286])]\n"
          ],
          "name": "stdout"
        },
        {
          "output_type": "execute_result",
          "data": {
            "text/plain": [
              "RANSACRegressor(base_estimator=None, is_data_valid=None, is_model_valid=None,\n",
              "                loss='absolute_loss', max_skips=inf, max_trials=100,\n",
              "                min_samples=None, random_state=0, residual_threshold=None,\n",
              "                stop_n_inliers=inf, stop_probability=0.99, stop_score=inf)"
            ]
          },
          "metadata": {
            "tags": []
          },
          "execution_count": 9
        }
      ]
    },
    {
      "cell_type": "code",
      "metadata": {
        "colab": {
          "base_uri": "https://localhost:8080/"
        },
        "id": "gruAqPCDuGHK",
        "outputId": "56a9ff93-5b5f-4641-e42f-fe1495c007e3"
      },
      "source": [
        "\r\n",
        "for reg,name in zip(models,names_others):\r\n",
        "    scores = cross_val_score(reg, X_train, y_train.ravel(), scoring=score,\r\n",
        "                            cv=5)\r\n",
        "    print('--------------------------------------')\r\n",
        "    print('model {0:20} | score {1:20}'.format(name,score))\r\n",
        "    print('mean {0:22.2f}| std   {1:<22.2f}'.format(scores.mean(),scores.std()))\r\n"
      ],
      "execution_count": null,
      "outputs": [
        {
          "output_type": "stream",
          "text": [
            "--------------------------------------\n",
            "model ElasticNet; $\u0007lpha=0.001 | score r2                  \n",
            "mean                   0.71| std   0.04                  \n",
            "--------------------------------------\n",
            "model MLPRegressor; $\\alpha = 0.001$ | score r2                  \n",
            "mean                   0.71| std   0.04                  \n",
            "--------------------------------------\n",
            "model RANSAC               | score r2                  \n",
            "mean                   0.69| std   0.04                  \n"
          ],
          "name": "stdout"
        }
      ]
    },
    {
      "cell_type": "markdown",
      "metadata": {
        "id": "eYWTnue2yaU-"
      },
      "source": [
        "### Test the Model\n",
        "\n",
        "Can we generalize our model to work good with other data?"
      ]
    },
    {
      "cell_type": "code",
      "metadata": {
        "id": "kYMgc9rEx7_R",
        "colab": {
          "base_uri": "https://localhost:8080/",
          "height": 418
        },
        "outputId": "7ced4774-7d23-421f-aedc-6b8dd540ade1"
      },
      "source": [
        "from sklearn.metrics import accuracy_score,median_absolute_error\n",
        "from sklearn.metrics import mean_squared_error, mean_absolute_error\n",
        "from sklearn.metrics import r2_score,mean_squared_log_error,explained_variance_score\n",
        "\n",
        "\n",
        "def test_model(X,y_test,regr):\n",
        "  #prediction\n",
        "  y_pred=regr.predict(X)\n",
        "  ##graficas\n",
        "  plt.scatter(y_pred, y_test,  color='black')\n",
        "  plt.xlabel('expected value')\n",
        "  plt.ylabel('Predicted value')\n",
        "  plt.title(\"Predicted Price vs Actual Price: $Y_i$ vs $\\hat{Y}_i$\")\n",
        "  plt.grid(True)\n",
        "  # https://scikit-learn.org/stable/modules/model_evaluation.html#regression-metrics\n",
        "  print('{0:30} | {1:9.2f}'.format('regressor score', regr.score(X,y_test)))\n",
        "  print('{0:30} | {1:9.2f}'.format('Mean squared error', np.mean((y_pred - y_test) ** 2)))\n",
        "  print('{0:30} | {1:9.2f}'.format('mean_squared_error', mean_squared_error(y_test,y_pred)))\n",
        "  print('{0:30} | {1:9.2f}'.format('mean_absolute_error', mean_absolute_error(y_test,y_pred)))\n",
        "  print('{0:30} | {1:9.2f}'.format('median_absolute_error', median_absolute_error(y_test,y_pred)))\n",
        "  print('{0:30} | {1:9.2f}'.format('explained_variance_score', explained_variance_score(y_test,y_pred)))\n",
        "  print('{0:30} | {1:9.2f}'.format('r ^ 2 score', r2_score(y_test,y_pred)))\n",
        "\n",
        "#TODO:  \n",
        "best_model = regr_mlp.fit(X_train, y_train)\n",
        "test_model(X_test,y_test,best_model)"
      ],
      "execution_count": null,
      "outputs": [
        {
          "output_type": "stream",
          "text": [
            "regressor score                |      0.81\n",
            "Mean squared error             |     16.10\n",
            "mean_squared_error             |     16.10\n",
            "mean_absolute_error            |      2.70\n",
            "median_absolute_error          |      1.86\n",
            "explained_variance_score       |      0.81\n",
            "r ^ 2 score                    |      0.81\n"
          ],
          "name": "stdout"
        },
        {
          "output_type": "display_data",
          "data": {
            "image/png": "[encoded data removed]",
            "text/plain": [
              "<Figure size 432x288 with 1 Axes>"
            ]
          },
          "metadata": {
            "tags": [],
            "needs_background": "light"
          }
        }
      ]
    },
    {
      "cell_type": "markdown",
      "metadata": {
        "id": "qjrdArTyy7Wj"
      },
      "source": [
        "### Implementation\n",
        "\n",
        "\n",
        "How it is going to work inside the process and organization?"
      ]
    },
    {
      "cell_type": "code",
      "metadata": {
        "id": "hPxNDlH3y-Z1"
      },
      "source": [
        "\n"
      ],
      "execution_count": null,
      "outputs": []
    },
    {
      "cell_type": "markdown",
      "metadata": {
        "id": "EQsLLexCHb_d"
      },
      "source": [
        "## Ejercicio \n",
        "\n",
        "A partir de la comprensión inicial de los datos de Fasecolda (ejercicio 1) o otro dataset de su elección\n",
        "\n",
        "- ¿cuales serian las mejores variables de entrada para hacer la regresión y porque?\n",
        "\n",
        "\n",
        "\n",
        "- Que ejercicio de regresión realizaria ?\n",
        "\n",
        "- Seria util realizar una regresión de Lasso? por que?\n",
        "\n",
        "- ¿que técnicas de visualización o muestra de resultados aplicaría?\n",
        "\n",
        "\n",
        "\n",
        "\n",
        "\n",
        "\n",
        "\n",
        "\n"
      ]
    },
    {
      "cell_type": "code",
      "metadata": {
        "id": "q_9xN1fJ3tHv"
      },
      "source": [
        ""
      ],
      "execution_count": null,
      "outputs": []
    },
    {
      "cell_type": "code",
      "metadata": {
        "id": "b53rncTcHfLt",
        "colab": {
          "resources": {
            "http://localhost:8080/nbextensions/google.colab/files.js": {
              "data": "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",
              "ok": true,
              "headers": [
                [
                  "content-type",
                  "application/javascript"
                ]
              ],
              "status": 200,
              "status_text": ""
            }
          },
          "base_uri": "https://localhost:8080/",
          "height": 476
        },
        "outputId": "a7b79524-6aec-40da-ab70-5ef804e34c12"
      },
      "source": [
        "## Cargamos el dataset de Fasecolda\n",
        "import pandas as pd\n",
        "from google.colab import files\n",
        "files.upload()\n",
        "\n",
        "data = pd.read_csv('Life Expectancy Data.csv')\n",
        "expectativa_df=pd.DataFrame(data)\n",
        "\n",
        "print(data.shape) #get (numer of rows, number of columns or 'features')\n",
        "#Consultar las columnas\n",
        "expectativa_df.dtypes"
      ],
      "execution_count": null,
      "outputs": [
        {
          "output_type": "display_data",
          "data": {
            "text/html": [
              "\n",
              "     <input type=\"file\" id=\"files-fab7a3da-8215-4228-b365-d1d9bc4fc14f\" name=\"files[]\" multiple disabled\n",
              "        style=\"border:none\" />\n",
              "     <output id=\"result-fab7a3da-8215-4228-b365-d1d9bc4fc14f\">\n",
              "      Upload widget is only available when the cell has been executed in the\n",
              "      current browser session. Please rerun this cell to enable.\n",
              "      </output>\n",
              "      <script src=\"/nbextensions/google.colab/files.js\"></script> "
            ],
            "text/plain": [
              "<IPython.core.display.HTML object>"
            ]
          },
          "metadata": {
            "tags": []
          }
        },
        {
          "output_type": "stream",
          "text": [
            "Saving Life Expectancy Data.csv to Life Expectancy Data (2).csv\n",
            "(2938, 22)\n"
          ],
          "name": "stdout"
        },
        {
          "output_type": "execute_result",
          "data": {
            "text/plain": [
              "Country                             object\n",
              "Year                                 int64\n",
              "Status                              object\n",
              "Life expectancy                    float64\n",
              "Adult Mortality                    float64\n",
              "infant deaths                        int64\n",
              "Alcohol                            float64\n",
              "percentage expenditure             float64\n",
              "Hepatitis B                        float64\n",
              "Measles                              int64\n",
              " BMI                               float64\n",
              "under-five deaths                    int64\n",
              "Polio                              float64\n",
              "Total expenditure                  float64\n",
              "Diphtheria                         float64\n",
              " HIV/AIDS                          float64\n",
              "GDP                                float64\n",
              "Population                         float64\n",
              " thinness  1-19 years              float64\n",
              " thinness 5-9 years                float64\n",
              "Income composition of resources    float64\n",
              "Schooling                          float64\n",
              "dtype: object"
            ]
          },
          "metadata": {
            "tags": []
          },
          "execution_count": 18
        }
      ]
    },
    {
      "cell_type": "markdown",
      "metadata": {
        "id": "ACK0q4QkEJ8k"
      },
      "source": [
        "# **Descripcion de cada columna**\r\n",
        "\r\n",
        "**Country**: country\r\n",
        "\r\n",
        "**Year**: Year\r\n",
        "\r\n",
        "**Status**: Developed or Developing status of the country\r\n",
        "\r\n",
        "**Life expectancy**: Life Expectancy in age\r\n",
        "\r\n",
        "**Adult Mortality**: Adult Mortality Rates of both sexes (probability of dying between 15 and 60 years per 1000 population)\r\n",
        "\r\n",
        "**infant deaths**: Number of Infant Deaths per 1000 population\r\n",
        "\r\n",
        "**Alcohol**: Alcohol, recorded per capita (15+) consumption (in litres of pure alcohol)\r\n",
        "\r\n",
        "**percentage expenditure**: Expenditure on health as a percentage of Gross Domestic Product per capita(%)\r\n",
        "\r\n",
        "**Hepatitis B**: Hepatitis B (HepB) immunization coverage among 1-year-olds (%)\r\n",
        "\r\n",
        "**Measles**: Measles - number of reported cases per 1000 population\r\n",
        "\r\n",
        "**BMI**: Average Body Mass Index of entire population\r\n",
        "\r\n",
        "**under-five deaths**: Number of under-five deaths per 1000 population\r\n",
        "\r\n",
        "**Polio**: Polio (Pol3) immunization coverage among 1-year-olds (%)\r\n",
        "\r\n",
        "**Total expenditure**: General government expenditure on health as a percentage of total government expenditure (%)\r\n",
        "\r\n",
        "**Diphtheria**: Diphtheria tetanus toxoid and pertussis (DTP3) immunization coverage among 1-year-olds (%)\r\n",
        "\r\n",
        "**HIV/AIDS**: Deaths per 1 000 live births HIV/AIDS (0-4 years)\r\n",
        "\r\n",
        "**GDP**: Gross Domestic Product per capita (in USD)\r\n",
        "\r\n",
        "**Population**: Population of the country\r\n",
        "\r\n",
        "**thinness 1-19 years**: Prevalence of thinness among children and adolescents for Age 10 to 19 (% )\r\n",
        "\r\n",
        "**thinness 5-9 years**: Prevalence of thinness among children for Age 5 to 9(%)\r\n",
        "\r\n",
        "**Income composition of resources**: Human Development Index in terms of income composition of resources (index ranging from 0 to 1)\r\n",
        "\r\n",
        "**Schooling**: Number of years of Schooling(years)\r\n",
        "\r\n",
        "*Descripciones obtenidas de* https://www.kaggle.com/kumarajarshi/life-expectancy-who"
      ]
    },
    {
      "cell_type": "code",
      "metadata": {
        "colab": {
          "base_uri": "https://localhost:8080/",
          "height": 354
        },
        "id": "RuB30wCFY1fY",
        "outputId": "9e9b6da0-9138-4ce0-bc0f-2cadd95a7eba"
      },
      "source": [
        "#Descripción estadisticas de los datos\r\n",
        "expectativa_df.describe()"
      ],
      "execution_count": null,
      "outputs": [
        {
          "output_type": "execute_result",
          "data": {
            "text/html": [
              "<div>\n",
              "<style scoped>\n",
              "    .dataframe tbody tr th:only-of-type {\n",
              "        vertical-align: middle;\n",
              "    }\n",
              "\n",
              "    .dataframe tbody tr th {\n",
              "        vertical-align: top;\n",
              "    }\n",
              "\n",
              "    .dataframe thead th {\n",
              "        text-align: right;\n",
              "    }\n",
              "</style>\n",
              "<table border=\"1\" class=\"dataframe\">\n",
              "  <thead>\n",
              "    <tr style=\"text-align: right;\">\n",
              "      <th></th>\n",
              "      <th>Year</th>\n",
              "      <th>Life expectancy</th>\n",
              "      <th>Adult Mortality</th>\n",
              "      <th>infant deaths</th>\n",
              "      <th>Alcohol</th>\n",
              "      <th>percentage expenditure</th>\n",
              "      <th>Hepatitis B</th>\n",
              "      <th>Measles</th>\n",
              "      <th>BMI</th>\n",
              "      <th>under-five deaths</th>\n",
              "      <th>Polio</th>\n",
              "      <th>Total expenditure</th>\n",
              "      <th>Diphtheria</th>\n",
              "      <th>HIV/AIDS</th>\n",
              "      <th>GDP</th>\n",
              "      <th>Population</th>\n",
              "      <th>thinness  1-19 years</th>\n",
              "      <th>thinness 5-9 years</th>\n",
              "      <th>Income composition of resources</th>\n",
              "      <th>Schooling</th>\n",
              "    </tr>\n",
              "  </thead>\n",
              "  <tbody>\n",
              "    <tr>\n",
              "      <th>count</th>\n",
              "      <td>2938.000000</td>\n",
              "      <td>2928.000000</td>\n",
              "      <td>2928.000000</td>\n",
              "      <td>2938.000000</td>\n",
              "      <td>2744.000000</td>\n",
              "      <td>2938.000000</td>\n",
              "      <td>2385.000000</td>\n",
              "      <td>2938.000000</td>\n",
              "      <td>2904.000000</td>\n",
              "      <td>2938.000000</td>\n",
              "      <td>2919.000000</td>\n",
              "      <td>2712.00000</td>\n",
              "      <td>2919.000000</td>\n",
              "      <td>2938.000000</td>\n",
              "      <td>2490.000000</td>\n",
              "      <td>2.286000e+03</td>\n",
              "      <td>2904.000000</td>\n",
              "      <td>2904.000000</td>\n",
              "      <td>2771.000000</td>\n",
              "      <td>2775.000000</td>\n",
              "    </tr>\n",
              "    <tr>\n",
              "      <th>mean</th>\n",
              "      <td>2007.518720</td>\n",
              "      <td>69.224932</td>\n",
              "      <td>164.796448</td>\n",
              "      <td>30.303948</td>\n",
              "      <td>4.602861</td>\n",
              "      <td>738.251295</td>\n",
              "      <td>80.940461</td>\n",
              "      <td>2419.592240</td>\n",
              "      <td>38.321247</td>\n",
              "      <td>42.035739</td>\n",
              "      <td>82.550188</td>\n",
              "      <td>5.93819</td>\n",
              "      <td>82.324084</td>\n",
              "      <td>1.742103</td>\n",
              "      <td>7483.158469</td>\n",
              "      <td>1.275338e+07</td>\n",
              "      <td>4.839704</td>\n",
              "      <td>4.870317</td>\n",
              "      <td>0.627551</td>\n",
              "      <td>11.992793</td>\n",
              "    </tr>\n",
              "    <tr>\n",
              "      <th>std</th>\n",
              "      <td>4.613841</td>\n",
              "      <td>9.523867</td>\n",
              "      <td>124.292079</td>\n",
              "      <td>117.926501</td>\n",
              "      <td>4.052413</td>\n",
              "      <td>1987.914858</td>\n",
              "      <td>25.070016</td>\n",
              "      <td>11467.272489</td>\n",
              "      <td>20.044034</td>\n",
              "      <td>160.445548</td>\n",
              "      <td>23.428046</td>\n",
              "      <td>2.49832</td>\n",
              "      <td>23.716912</td>\n",
              "      <td>5.077785</td>\n",
              "      <td>14270.169342</td>\n",
              "      <td>6.101210e+07</td>\n",
              "      <td>4.420195</td>\n",
              "      <td>4.508882</td>\n",
              "      <td>0.210904</td>\n",
              "      <td>3.358920</td>\n",
              "    </tr>\n",
              "    <tr>\n",
              "      <th>min</th>\n",
              "      <td>2000.000000</td>\n",
              "      <td>36.300000</td>\n",
              "      <td>1.000000</td>\n",
              "      <td>0.000000</td>\n",
              "      <td>0.010000</td>\n",
              "      <td>0.000000</td>\n",
              "      <td>1.000000</td>\n",
              "      <td>0.000000</td>\n",
              "      <td>1.000000</td>\n",
              "      <td>0.000000</td>\n",
              "      <td>3.000000</td>\n",
              "      <td>0.37000</td>\n",
              "      <td>2.000000</td>\n",
              "      <td>0.100000</td>\n",
              "      <td>1.681350</td>\n",
              "      <td>3.400000e+01</td>\n",
              "      <td>0.100000</td>\n",
              "      <td>0.100000</td>\n",
              "      <td>0.000000</td>\n",
              "      <td>0.000000</td>\n",
              "    </tr>\n",
              "    <tr>\n",
              "      <th>25%</th>\n",
              "      <td>2004.000000</td>\n",
              "      <td>63.100000</td>\n",
              "      <td>74.000000</td>\n",
              "      <td>0.000000</td>\n",
              "      <td>0.877500</td>\n",
              "      <td>4.685343</td>\n",
              "      <td>77.000000</td>\n",
              "      <td>0.000000</td>\n",
              "      <td>19.300000</td>\n",
              "      <td>0.000000</td>\n",
              "      <td>78.000000</td>\n",
              "      <td>4.26000</td>\n",
              "      <td>78.000000</td>\n",
              "      <td>0.100000</td>\n",
              "      <td>463.935626</td>\n",
              "      <td>1.957932e+05</td>\n",
              "      <td>1.600000</td>\n",
              "      <td>1.500000</td>\n",
              "      <td>0.493000</td>\n",
              "      <td>10.100000</td>\n",
              "    </tr>\n",
              "    <tr>\n",
              "      <th>50%</th>\n",
              "      <td>2008.000000</td>\n",
              "      <td>72.100000</td>\n",
              "      <td>144.000000</td>\n",
              "      <td>3.000000</td>\n",
              "      <td>3.755000</td>\n",
              "      <td>64.912906</td>\n",
              "      <td>92.000000</td>\n",
              "      <td>17.000000</td>\n",
              "      <td>43.500000</td>\n",
              "      <td>4.000000</td>\n",
              "      <td>93.000000</td>\n",
              "      <td>5.75500</td>\n",
              "      <td>93.000000</td>\n",
              "      <td>0.100000</td>\n",
              "      <td>1766.947595</td>\n",
              "      <td>1.386542e+06</td>\n",
              "      <td>3.300000</td>\n",
              "      <td>3.300000</td>\n",
              "      <td>0.677000</td>\n",
              "      <td>12.300000</td>\n",
              "    </tr>\n",
              "    <tr>\n",
              "      <th>75%</th>\n",
              "      <td>2012.000000</td>\n",
              "      <td>75.700000</td>\n",
              "      <td>228.000000</td>\n",
              "      <td>22.000000</td>\n",
              "      <td>7.702500</td>\n",
              "      <td>441.534144</td>\n",
              "      <td>97.000000</td>\n",
              "      <td>360.250000</td>\n",
              "      <td>56.200000</td>\n",
              "      <td>28.000000</td>\n",
              "      <td>97.000000</td>\n",
              "      <td>7.49250</td>\n",
              "      <td>97.000000</td>\n",
              "      <td>0.800000</td>\n",
              "      <td>5910.806335</td>\n",
              "      <td>7.420359e+06</td>\n",
              "      <td>7.200000</td>\n",
              "      <td>7.200000</td>\n",
              "      <td>0.779000</td>\n",
              "      <td>14.300000</td>\n",
              "    </tr>\n",
              "    <tr>\n",
              "      <th>max</th>\n",
              "      <td>2015.000000</td>\n",
              "      <td>89.000000</td>\n",
              "      <td>723.000000</td>\n",
              "      <td>1800.000000</td>\n",
              "      <td>17.870000</td>\n",
              "      <td>19479.911610</td>\n",
              "      <td>99.000000</td>\n",
              "      <td>212183.000000</td>\n",
              "      <td>87.300000</td>\n",
              "      <td>2500.000000</td>\n",
              "      <td>99.000000</td>\n",
              "      <td>17.60000</td>\n",
              "      <td>99.000000</td>\n",
              "      <td>50.600000</td>\n",
              "      <td>119172.741800</td>\n",
              "      <td>1.293859e+09</td>\n",
              "      <td>27.700000</td>\n",
              "      <td>28.600000</td>\n",
              "      <td>0.948000</td>\n",
              "      <td>20.700000</td>\n",
              "    </tr>\n",
              "  </tbody>\n",
              "</table>\n",
              "</div>"
            ],
            "text/plain": [
              "              Year  ...    Schooling\n",
              "count  2938.000000  ...  2775.000000\n",
              "mean   2007.518720  ...    11.992793\n",
              "std       4.613841  ...     3.358920\n",
              "min    2000.000000  ...     0.000000\n",
              "25%    2004.000000  ...    10.100000\n",
              "50%    2008.000000  ...    12.300000\n",
              "75%    2012.000000  ...    14.300000\n",
              "max    2015.000000  ...    20.700000\n",
              "\n",
              "[8 rows x 20 columns]"
            ]
          },
          "metadata": {
            "tags": []
          },
          "execution_count": 19
        }
      ]
    },
    {
      "cell_type": "code",
      "metadata": {
        "colab": {
          "base_uri": "https://localhost:8080/",
          "height": 645
        },
        "id": "I_PhvNdo_VT1",
        "outputId": "07129329-c230-423d-dd89-4387a90b09a3"
      },
      "source": [
        "expectativa_df.plot.box(figsize=(30,15))"
      ],
      "execution_count": null,
      "outputs": [
        {
          "output_type": "stream",
          "text": [
            "/usr/local/lib/python3.7/dist-packages/numpy/core/_asarray.py:83: VisibleDeprecationWarning: Creating an ndarray from ragged nested sequences (which is a list-or-tuple of lists-or-tuples-or ndarrays with different lengths or shapes) is deprecated. If you meant to do this, you must specify 'dtype=object' when creating the ndarray\n",
            "  return array(a, dtype, copy=False, order=order)\n"
          ],
          "name": "stderr"
        },
        {
          "output_type": "execute_result",
          "data": {
            "text/plain": [
              "<matplotlib.axes._subplots.AxesSubplot at 0x7f040aefc590>"
            ]
          },
          "metadata": {
            "tags": []
          },
          "execution_count": 20
        },
        {
          "output_type": "display_data",
          "data": {
            "image/png": "[encoded data removed]",
            "text/plain": [
              "<Figure size 2160x1080 with 1 Axes>"
            ]
          },
          "metadata": {
            "tags": [],
            "needs_background": "light"
          }
        }
      ]
    },
    {
      "cell_type": "code",
      "metadata": {
        "colab": {
          "base_uri": "https://localhost:8080/"
        },
        "id": "0x0Ngze8fZId",
        "outputId": "8d2f5d84-349e-4c98-cdb5-657d9830deee"
      },
      "source": [
        "#Ver valores vacios\r\n",
        "data.isna().sum()"
      ],
      "execution_count": null,
      "outputs": [
        {
          "output_type": "execute_result",
          "data": {
            "text/plain": [
              "Country                              0\n",
              "Year                                 0\n",
              "Status                               0\n",
              "Life expectancy                     10\n",
              "Adult Mortality                     10\n",
              "infant deaths                        0\n",
              "Alcohol                            194\n",
              "percentage expenditure               0\n",
              "Hepatitis B                        553\n",
              "Measles                              0\n",
              " BMI                                34\n",
              "under-five deaths                    0\n",
              "Polio                               19\n",
              "Total expenditure                  226\n",
              "Diphtheria                          19\n",
              " HIV/AIDS                            0\n",
              "GDP                                448\n",
              "Population                         652\n",
              " thinness  1-19 years               34\n",
              " thinness 5-9 years                 34\n",
              "Income composition of resources    167\n",
              "Schooling                          163\n",
              "dtype: int64"
            ]
          },
          "metadata": {
            "tags": []
          },
          "execution_count": 21
        }
      ]
    },
    {
      "cell_type": "markdown",
      "metadata": {
        "id": "b4ZtUTn6GZJQ"
      },
      "source": [
        "1. ¿cuales serian las mejores variables de entrada para hacer la regresión y porque?\r\n",
        "                          \r\n",
        "Status                               \r\n",
        "Life expectancy                     \r\n",
        "Adult Mortality                     \r\n",
        "infant deaths                        \r\n",
        "percentage expenditure               \r\n",
        "Measles                              \r\n",
        "BMI                                \r\n",
        "under-five deaths                    \r\n",
        "Polio                               \r\n",
        "Diphtheria                          \r\n",
        "HIV/AIDS                            \r\n",
        "thinness  1-19 years               \r\n",
        "thinness 5-9 years                 \r\n",
        "Schooling\r\n",
        "\r\n",
        "Porque presentan pocos o ningun dato faltante y en su mayoría son de tipo cuantitativo.\r\n",
        "*Status* seria un variable categorica que se puede cambiar por un valor binario."
      ]
    },
    {
      "cell_type": "markdown",
      "metadata": {
        "id": "vnUBHMo1Cvtv"
      },
      "source": [
        "2. ¿Que otras fuentes de información utilizaría para para mejorar la predicción realizada?\r\n",
        "\r\n",
        "Complementariamos usando datos sobre \r\n",
        "\r\n",
        "*   Consumo de azucar: https://www.statista.com/statistics/496002/sugar-consumption-worldwide/\r\n",
        "*   Consumo de alcohol dado que el dataset usado tenia datos faltantes: \r\n",
        "https://ourworldindata.org/alcohol-consumption\r\n",
        "*   Estadisticas de muertes y consumo de cigarrillo: https://ourworldindata.org/smoking"
      ]
    },
    {
      "cell_type": "markdown",
      "metadata": {
        "id": "yZI11EZU0jew"
      },
      "source": [
        "3. Que transformaciones requiere realizar sobre los datos?\r\n",
        "\r\n",
        "Status seria un variable categorica que se debe cambiar por un valor binario.\r\n",
        "Se deben eliminar las columnas que no se usaran y eliminar los registros sin datos\r\n"
      ]
    },
    {
      "cell_type": "code",
      "metadata": {
        "colab": {
          "base_uri": "https://localhost:8080/",
          "height": 249
        },
        "id": "wf8Utxd7jfum",
        "outputId": "d65aab37-c5f9-4c54-9221-703776b48c72"
      },
      "source": [
        "#usar funcion de pandas para variable categorica https://pandas.pydata.org/pandas-docs/stable/reference/api/pandas.get_dummies.html\r\n",
        "categorical=pd.get_dummies(data['Status'])\r\n",
        "\r\n",
        "data=pd.concat([data,categorical],axis=1)\r\n",
        "\r\n",
        "#Eliminando las columnas que no se van a usar y la que se reemplazo Status\r\n",
        "data=data.drop(['Country','Year','Income composition of resources','Alcohol','Hepatitis B','Total expenditure','GDP', 'Population','Status'],axis=1)\r\n",
        "data.head()"
      ],
      "execution_count": null,
      "outputs": [
        {
          "output_type": "execute_result",
          "data": {
            "text/html": [
              "<div>\n",
              "<style scoped>\n",
              "    .dataframe tbody tr th:only-of-type {\n",
              "        vertical-align: middle;\n",
              "    }\n",
              "\n",
              "    .dataframe tbody tr th {\n",
              "        vertical-align: top;\n",
              "    }\n",
              "\n",
              "    .dataframe thead th {\n",
              "        text-align: right;\n",
              "    }\n",
              "</style>\n",
              "<table border=\"1\" class=\"dataframe\">\n",
              "  <thead>\n",
              "    <tr style=\"text-align: right;\">\n",
              "      <th></th>\n",
              "      <th>Life expectancy</th>\n",
              "      <th>Adult Mortality</th>\n",
              "      <th>infant deaths</th>\n",
              "      <th>percentage expenditure</th>\n",
              "      <th>Measles</th>\n",
              "      <th>BMI</th>\n",
              "      <th>under-five deaths</th>\n",
              "      <th>Polio</th>\n",
              "      <th>Diphtheria</th>\n",
              "      <th>HIV/AIDS</th>\n",
              "      <th>thinness  1-19 years</th>\n",
              "      <th>thinness 5-9 years</th>\n",
              "      <th>Schooling</th>\n",
              "      <th>Developed</th>\n",
              "      <th>Developing</th>\n",
              "    </tr>\n",
              "  </thead>\n",
              "  <tbody>\n",
              "    <tr>\n",
              "      <th>0</th>\n",
              "      <td>65.0</td>\n",
              "      <td>263.0</td>\n",
              "      <td>62</td>\n",
              "      <td>71.279624</td>\n",
              "      <td>1154</td>\n",
              "      <td>19.1</td>\n",
              "      <td>83</td>\n",
              "      <td>6.0</td>\n",
              "      <td>65.0</td>\n",
              "      <td>0.1</td>\n",
              "      <td>17.2</td>\n",
              "      <td>17.3</td>\n",
              "      <td>10.1</td>\n",
              "      <td>0</td>\n",
              "      <td>1</td>\n",
              "    </tr>\n",
              "    <tr>\n",
              "      <th>1</th>\n",
              "      <td>59.9</td>\n",
              "      <td>271.0</td>\n",
              "      <td>64</td>\n",
              "      <td>73.523582</td>\n",
              "      <td>492</td>\n",
              "      <td>18.6</td>\n",
              "      <td>86</td>\n",
              "      <td>58.0</td>\n",
              "      <td>62.0</td>\n",
              "      <td>0.1</td>\n",
              "      <td>17.5</td>\n",
              "      <td>17.5</td>\n",
              "      <td>10.0</td>\n",
              "      <td>0</td>\n",
              "      <td>1</td>\n",
              "    </tr>\n",
              "    <tr>\n",
              "      <th>2</th>\n",
              "      <td>59.9</td>\n",
              "      <td>268.0</td>\n",
              "      <td>66</td>\n",
              "      <td>73.219243</td>\n",
              "      <td>430</td>\n",
              "      <td>18.1</td>\n",
              "      <td>89</td>\n",
              "      <td>62.0</td>\n",
              "      <td>64.0</td>\n",
              "      <td>0.1</td>\n",
              "      <td>17.7</td>\n",
              "      <td>17.7</td>\n",
              "      <td>9.9</td>\n",
              "      <td>0</td>\n",
              "      <td>1</td>\n",
              "    </tr>\n",
              "    <tr>\n",
              "      <th>3</th>\n",
              "      <td>59.5</td>\n",
              "      <td>272.0</td>\n",
              "      <td>69</td>\n",
              "      <td>78.184215</td>\n",
              "      <td>2787</td>\n",
              "      <td>17.6</td>\n",
              "      <td>93</td>\n",
              "      <td>67.0</td>\n",
              "      <td>67.0</td>\n",
              "      <td>0.1</td>\n",
              "      <td>17.9</td>\n",
              "      <td>18.0</td>\n",
              "      <td>9.8</td>\n",
              "      <td>0</td>\n",
              "      <td>1</td>\n",
              "    </tr>\n",
              "    <tr>\n",
              "      <th>4</th>\n",
              "      <td>59.2</td>\n",
              "      <td>275.0</td>\n",
              "      <td>71</td>\n",
              "      <td>7.097109</td>\n",
              "      <td>3013</td>\n",
              "      <td>17.2</td>\n",
              "      <td>97</td>\n",
              "      <td>68.0</td>\n",
              "      <td>68.0</td>\n",
              "      <td>0.1</td>\n",
              "      <td>18.2</td>\n",
              "      <td>18.2</td>\n",
              "      <td>9.5</td>\n",
              "      <td>0</td>\n",
              "      <td>1</td>\n",
              "    </tr>\n",
              "  </tbody>\n",
              "</table>\n",
              "</div>"
            ],
            "text/plain": [
              "   Life expectancy   Adult Mortality  ...  Developed  Developing\n",
              "0              65.0            263.0  ...          0           1\n",
              "1              59.9            271.0  ...          0           1\n",
              "2              59.9            268.0  ...          0           1\n",
              "3              59.5            272.0  ...          0           1\n",
              "4              59.2            275.0  ...          0           1\n",
              "\n",
              "[5 rows x 15 columns]"
            ]
          },
          "metadata": {
            "tags": []
          },
          "execution_count": 38
        }
      ]
    },
    {
      "cell_type": "code",
      "metadata": {
        "colab": {
          "base_uri": "https://localhost:8080/"
        },
        "id": "8UCX5gkumqNP",
        "outputId": "42dd6b25-3861-4d21-fa44-97027ab10a51"
      },
      "source": [
        "\r\n",
        "#numero de registros antes de borrar\r\n",
        "print(data.shape) \r\n",
        "#Remover los registros, filas, que no tienen valores\r\n",
        "data['Life expectancy '].fillna(0,inplace=True)\r\n",
        "data=data[data['Life expectancy '] != 0]\r\n",
        "\r\n",
        "data['Adult Mortality'].fillna(0,inplace=True)\r\n",
        "data=data[data['Adult Mortality'] != 0]\r\n",
        "\r\n",
        "data[' BMI '].fillna(0,inplace=True)\r\n",
        "data=data[data[' BMI '] != 0]\r\n",
        "\r\n",
        "data['Diphtheria '].fillna(0,inplace=True)\r\n",
        "data=data[data['Diphtheria '] != 0]\r\n",
        "\r\n",
        "data['Polio'].fillna(0,inplace=True)\r\n",
        "data=data[data['Polio'] != 0]\r\n",
        "\r\n",
        "data[' thinness  1-19 years'].fillna(0,inplace=True)\r\n",
        "data=data[data[' thinness  1-19 years'] != 0]\r\n",
        "\r\n",
        "data[' thinness 5-9 years'].fillna(0,inplace=True)\r\n",
        "data=data[data[' thinness 5-9 years'] != 0]\r\n",
        "\r\n",
        "data['Schooling'].fillna(0,inplace=True)\r\n",
        "data=data[data['Schooling'] != 0]\r\n",
        "\r\n",
        "#Ver cantidad de datos despues de limpiar\r\n",
        "print(data.shape) "
      ],
      "execution_count": null,
      "outputs": [
        {
          "output_type": "stream",
          "text": [
            "(2938, 15)\n",
            "(2718, 15)\n"
          ],
          "name": "stdout"
        }
      ]
    },
    {
      "cell_type": "code",
      "metadata": {
        "id": "C8ZINqaCGrD_"
      },
      "source": [
        "#actualizar dataframe\r\n",
        "expectativa_df=pd.DataFrame(data)\r\n",
        "\r\n",
        "## split training and test data\r\n",
        "y=expectativa_df['Life expectancy ']\r\n",
        "X=expectativa_df.drop('Life expectancy ',axis=1)\r\n",
        "\r\n",
        "X_train, X_test, y_train, y_test = train_test_split(X, y, test_size=0.25, random_state=1212)"
      ],
      "execution_count": null,
      "outputs": []
    },
    {
      "cell_type": "code",
      "metadata": {
        "id": "W3gdqknTI3FQ",
        "colab": {
          "base_uri": "https://localhost:8080/"
        },
        "outputId": "6ed47261-fd45-4257-ff2b-f28f8ab90d41"
      },
      "source": [
        "# Create linear regressor object (in an array to train all)\r\n",
        "\r\n",
        "names_reg=['Linear Regression',r'Ridge; $\\alpha = 0.01$',r'Ridge; $\\alpha = 100$',r'Lasso, $\\alpha = 0.001$']\r\n",
        "models_reg = [LinearRegression(),Ridge(alpha=0.01),Ridge(alpha=100), Lasso(alpha=0.001,max_iter=1000000000)]\r\n",
        "\r\n",
        "\r\n",
        "for regr,name in zip(models_reg,names_reg):\r\n",
        "  regr.fit(X_train, y_train)\r\n",
        "  # The coefficients\r\n",
        "  print('model ',name)\r\n",
        "  print('Coefficients: ', regr.coef_)\r\n",
        "  print('Intercept: ', regr.intercept_)\r\n"
      ],
      "execution_count": null,
      "outputs": [
        {
          "output_type": "stream",
          "text": [
            "model  Linear Regression\n",
            "Coefficients:  [-1.70190298e-02  8.96761507e-02  2.92139652e-04 -1.54778555e-05\n",
            "  3.08879290e-02 -6.62534549e-02  1.95596958e-02  2.53199634e-02\n",
            " -5.06306178e-01 -3.95212379e-02 -4.12720215e-03  1.35945416e+00\n",
            "  4.95028061e-01 -4.95028061e-01]\n",
            "Intercept:  52.10895145017756\n",
            "model  Ridge; $\\alpha = 0.01$\n",
            "Coefficients:  [-1.70190437e-02  8.96761261e-02  2.92141386e-04 -1.54778861e-05\n",
            "  3.08879622e-02 -6.62534324e-02  1.95597307e-02  2.53199856e-02\n",
            " -5.06305994e-01 -3.95215153e-02 -4.12743689e-03  1.35945375e+00\n",
            "  4.95016038e-01 -4.95016038e-01]\n",
            "Intercept:  52.10894536447108\n",
            "model  Ridge; $\\alpha = 100$\n",
            "Coefficients:  [-1.71499909e-02  8.95337773e-02  3.06705614e-04 -1.57448252e-05\n",
            "  3.12932553e-02 -6.61125799e-02  1.98853004e-02  2.55623551e-02\n",
            " -5.04511700e-01 -4.20238743e-02 -6.07282998e-03  1.35297593e+00\n",
            "  4.00930669e-01 -4.00930669e-01]\n",
            "Intercept:  52.08975666464808\n",
            "model  Lasso, $\\alpha = 0.001$\n",
            "Coefficients:  [-1.70231812e-02  8.96380831e-02  2.92778495e-04 -1.54897430e-05\n",
            "  3.08855499e-02 -6.62245196e-02  1.95663939e-02  2.53199150e-02\n",
            " -5.06247161e-01 -3.95575458e-02 -4.16416650e-03  1.35978211e+00\n",
            "  9.79313753e-01 -0.00000000e+00]\n",
            "Intercept:  51.611671368023664\n"
          ],
          "name": "stdout"
        }
      ]
    },
    {
      "cell_type": "code",
      "metadata": {
        "colab": {
          "base_uri": "https://localhost:8080/",
          "height": 574
        },
        "id": "qFJEkCbBqxLM",
        "outputId": "46f3517c-0a4a-4256-d39f-8a2c66de750c"
      },
      "source": [
        "markers=['d','o','*','+','<','>']\r\n",
        "plt.figure(figsize=(20,10))\r\n",
        "for i in range(0,len(names_reg)):\r\n",
        "  plt.plot(X.columns,models_reg[i].coef_,alpha=0.7,linestyle='none',marker=markers[i],markersize=5,label=names[i])\r\n",
        "plt.xlabel('feature',fontsize=16)\r\n",
        "plt.ylabel('Coefficient Magnitude',fontsize=16)\r\n",
        "plt.legend(fontsize=13,loc=1)\r\n",
        "plt.show()"
      ],
      "execution_count": null,
      "outputs": [
        {
          "output_type": "display_data",
          "data": {
            "image/png": "[encoded data removed]",
            "text/plain": [
              "<Figure size 1440x720 with 1 Axes>"
            ]
          },
          "metadata": {
            "tags": [],
            "needs_background": "light"
          }
        }
      ]
    },
    {
      "cell_type": "code",
      "metadata": {
        "colab": {
          "base_uri": "https://localhost:8080/"
        },
        "id": "2G5fCbaDr1Iv",
        "outputId": "534c7d91-32ea-446e-b74a-ca2917ee6938"
      },
      "source": [
        "from sklearn.model_selection import cross_val_score\r\n",
        "\r\n",
        "#from https://scikit-learn.org/stable/modules/model_evaluation.html#scoring-parameter\r\n",
        "scoring =['explained_variance',\r\n",
        "          'neg_mean_absolute_error',\r\n",
        "          'neg_mean_squared_error',\r\n",
        "          'neg_mean_squared_log_error',\r\n",
        "          'neg_median_absolute_error',\r\n",
        "          'r2']\r\n",
        "score = 'r2'\r\n",
        "for reg,name in zip(models_reg,names_reg):\r\n",
        "    scores = cross_val_score(reg, X_train, y_train.ravel(), scoring=score,\r\n",
        "                            cv=5)\r\n",
        "    print('--------------------------------------')\r\n",
        "    print('model {0:20} | score {1:20}'.format(name,score))\r\n",
        "    print('mean {0:22.2f}| std   {1:<22.2f}'.format(scores.mean(),scores.std()))\r\n",
        "    print(\"Accuracy(95.7%): {0:23.2f} (+/- {1:.2f})\" .format(scores.mean(), scores.std() * 2))"
      ],
      "execution_count": null,
      "outputs": [
        {
          "output_type": "stream",
          "text": [
            "--------------------------------------\n",
            "model Linear Regression    | score r2                  \n",
            "mean                   0.83| std   0.01                  \n",
            "Accuracy(95.7%):                    0.83 (+/- 0.02)\n",
            "--------------------------------------\n",
            "model Ridge; $\\alpha = 0.01$ | score r2                  \n",
            "mean                   0.83| std   0.01                  \n",
            "Accuracy(95.7%):                    0.83 (+/- 0.02)\n",
            "--------------------------------------\n",
            "model Ridge; $\\alpha = 100$ | score r2                  \n",
            "mean                   0.83| std   0.01                  \n",
            "Accuracy(95.7%):                    0.83 (+/- 0.02)\n",
            "--------------------------------------\n",
            "model Lasso, $\\alpha = 0.001$ | score r2                  \n",
            "mean                   0.83| std   0.01                  \n",
            "Accuracy(95.7%):                    0.83 (+/- 0.02)\n"
          ],
          "name": "stdout"
        }
      ]
    },
    {
      "cell_type": "code",
      "metadata": {
        "colab": {
          "base_uri": "https://localhost:8080/",
          "height": 426
        },
        "id": "544Sw1Qwr07p",
        "outputId": "3a70f199-8760-493f-85a2-33680e6610ec"
      },
      "source": [
        "def test_model_2(X,y_test,regr):\r\n",
        "  #prediction\r\n",
        "  y_pred=regr.predict(X)\r\n",
        "  ##graficas\r\n",
        "  plt.scatter(y_pred, y_test,  color='black')\r\n",
        "  plt.xlabel('expected value')\r\n",
        "  plt.ylabel('Predicted value')\r\n",
        "  plt.title(\"Predicted Expectative Life vs Actual Expectative Life: $Y_i$ vs $\\hat{Y}_i$\")\r\n",
        "  plt.grid(True)\r\n",
        "  # https://scikit-learn.org/stable/modules/model_evaluation.html#regression-metrics\r\n",
        "  print('{0:30} | {1:9.2f}'.format('regressor score', regr.score(X,y_test)))\r\n",
        "  print('{0:30} | {1:9.2f}'.format('Mean squared error', np.mean((y_pred - y_test) ** 2)))\r\n",
        "  print('{0:30} | {1:9.2f}'.format('mean_squared_error', mean_squared_error(y_test,y_pred)))\r\n",
        "  print('{0:30} | {1:9.2f}'.format('mean_absolute_error', mean_absolute_error(y_test,y_pred)))\r\n",
        "  print('{0:30} | {1:9.2f}'.format('median_absolute_error', median_absolute_error(y_test,y_pred)))\r\n",
        "  print('{0:30} | {1:9.2f}'.format('explained_variance_score', explained_variance_score(y_test,y_pred)))\r\n",
        "  print('{0:30} | {1:9.2f}'.format('r ^ 2 score', r2_score(y_test,y_pred)))\r\n",
        "\r\n",
        "\r\n",
        "best_model = LinearRegression().fit(X_train, y_train)\r\n",
        "test_model_2(X_test,y_test,best_model)"
      ],
      "execution_count": null,
      "outputs": [
        {
          "output_type": "stream",
          "text": [
            "regressor score                |      0.83\n",
            "Mean squared error             |     14.92\n",
            "mean_squared_error             |     14.92\n",
            "mean_absolute_error            |      3.01\n",
            "median_absolute_error          |      2.46\n",
            "explained_variance_score       |      0.83\n",
            "r ^ 2 score                    |      0.83\n"
          ],
          "name": "stdout"
        },
        {
          "output_type": "display_data",
          "data": {
            "image/png": "[encoded data removed]",
            "text/plain": [
              "<Figure size 432x288 with 1 Axes>"
            ]
          },
          "metadata": {
            "tags": [],
            "needs_background": "light"
          }
        }
      ]
    },
    {
      "cell_type": "markdown",
      "metadata": {
        "id": "uAu_6H_y9-Hx"
      },
      "source": [
        "¿que técnicas de visualización o muestra de resultados aplicaría?"
      ]
    },
    {
      "cell_type": "markdown",
      "metadata": {
        "id": "jOiy2RggIATs"
      },
      "source": [
        "Utilizaríamos una técnica que nos ayude a sintetizar la información de manera gráfica de tal forma que el cliente pueda captar de manera sencilla lo que deseamos transmitir y en la que se puedan evidenciar patrones. Para esto podemos hacer uso de herramientas como Tableu, la cual es una herramienta de visualización interactiva, que nos permite generar Dashboard para la inteligencia de negocios."
      ]
    },
    {
      "cell_type": "markdown",
      "metadata": {
        "id": "Au2IvAlaL8_k"
      },
      "source": [
        "## Presente sus conclusiones sobre regresiones\n"
      ]
    },
    {
      "cell_type": "markdown",
      "metadata": {
        "id": "YyIqufnrGaRt"
      },
      "source": [
        "Las variables utilizadas para la construcción del modelo de regresión nos aportan suficiente información para ajustar el modelo. Ya que el porcentaje de variación de la variable de respuesta que explica su relación con las variables predictoras es del 83%. \r\n",
        "\r\n",
        "Dandonos así, buenas predicciones para la expectativa de vida."
      ]
    }
  ]
}